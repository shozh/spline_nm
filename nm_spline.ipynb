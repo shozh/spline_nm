{
 "cells": [
  {
   "cell_type": "code",
   "execution_count": 2,
   "id": "2849c8bd",
   "metadata": {},
   "outputs": [],
   "source": [
    "import numpy as np\n",
    "import matplotlib.pyplot as plt\n",
    "from math import *"
   ]
  },
  {
   "cell_type": "code",
   "execution_count": 3,
   "id": "046abb21",
   "metadata": {},
   "outputs": [],
   "source": [
    "# Метод прогонки\n",
    "def tridiagonal_matrix_algorithm(a, b, c, d, n):\n",
    "    \n",
    "    for i in range(1, n):\n",
    "        coef = a[i]/b[i-1]\n",
    "        b[i] -= coef * c[i-1]\n",
    "        d[i] -= coef * d[i-1]\n",
    "    \n",
    "    for i in range(n - 1, 0, -1):\n",
    "        coef = c[i-1]/b[i]\n",
    "        d[i - 1] -= d[i] * coef\n",
    "    \n",
    "    return [d[i] / b[i] for i in range(n)]\n",
    "\n",
    "def get_gamma(Dom, Ran):\n",
    "    n = len(Dom)\n",
    "    \n",
    "    # шаг сетки\n",
    "    h = np.array([Dom[i] - Dom[i-1] for i in range(1, n)])\n",
    "    h = np.hstack((np.array([0]), h))\n",
    "\n",
    "    a = np.array([h[i]/6 for i in range(2, n - 1)])\n",
    "    a = np.hstack((np.array([0]), a))\n",
    "    \n",
    "    b = np.array([(h[i] + h[i+1])/3 for i in range(1, n - 1)])\n",
    "    \n",
    "    c = np.array([h[i+1]/6 for i in range(1, n- 2)])\n",
    "    c = np.hstack((c, np.array([0])))\n",
    "    \n",
    "    d = np.array([(Ran[i+1] - Ran[i])/h[i+1] - (Ran[i] - Ran[i-1])/h[i] for i in range(1, n-1)])\n",
    "    \n",
    "\n",
    "    gamma = tridiagonal_matrix_algorithm(a, b, c, d, n-2)\n",
    "    gamma.insert(0, 0)\n",
    "    gamma.append(0)\n",
    "    return gamma"
   ]
  },
  {
   "cell_type": "code",
   "execution_count": 4,
   "id": "cd27dd9e",
   "metadata": {},
   "outputs": [],
   "source": [
    "# Функции\n",
    "f = lambda x: 1/(1 + x**2)\n",
    "g = lambda x: 1/(1 + e**(-x))\n",
    "h = lambda x: 1/(5 - tan(x))\n",
    "t = lambda x: 1/(1+x)\n",
    "\n",
    "# Участки\n",
    "Df = np.arange(7)\n",
    "Ef = np.array([f(t) for t in Df])\n",
    "Dg = np.arange(-2, 5)\n",
    "Eg = np.array([g(x) for x in Dg])\n",
    "Dh = np.arange(-2, 5)\n",
    "Eh = np.array([h(x) for x in Dh])\n",
    "Dt = np.arange(0, 10)\n",
    "Et = np.array([t(x) for x in Dt])\n",
    "\n",
    "# полином\n",
    "def Q(i, x, Dom, Ran):\n",
    "    gamma = get_gamma(Dom, Ran)\n",
    "    h = [0] + [Dom[i] - Dom[i-1] for i in range(1, len(Dom))]\n",
    "    p1 = Ran[i - 1]*(Dom[i] - x)/h[i]\n",
    "    p2 = gamma[i-1]*((Dom[i] - x)**3 - (Dom[i] - x)*h[i]**2)/(6 * h[i])\n",
    "    p3 = Ran[i]*(x - Dom[i - 1])/h[i]\n",
    "    p4 = gamma[i]*((x - Dom[i-1])**3 - (x - Dom[i-1])*h[i]**2)/(6*h[i])\n",
    "    return p1 + p2 + p3 + p4\n",
    "\n",
    "def get_coef(i, Dom, Ran):\n",
    "    gamma = get_gamma(Dom, Ran)\n",
    "    h = [0] + [Dom[i] - Dom[i-1] for i in range(1, len(Dom))]\n",
    "    a3 = (gamma[i] - gamma[i-1])/(6*h[i])\n",
    "    a2 = (gamma[i-1] * Dom[i] - gamma[i] * Dom[i - 1])/(2 * h[i])\n",
    "    a1 = (gamma[i] * Dom[i - 1] ** 2 - gamma[i - 1] * Dom[i] ** 2)/(2 * h[i]) + (Ran[i] - Ran[i - 1])/h[i] - h[i] * (gamma[i] - gamma[i-1]) / 6\n",
    "    a0 = (gamma[i-1] * Dom[i]**3 - gamma[i] * Dom[i-1] ** 3)/(6*h[i]) + (Ran[i-1] * Dom[i] - Ran[i] * Dom[i - 1])/h[i] + h[i]*(gamma[i] * Dom[i - 1] - gamma[i - 1] * Dom[i]) / 6\n",
    "    return [a3, a2, a1, a0]\n",
    "\n",
    "def P(i, x, Dom, Ran):\n",
    "    a3, a2, a1, a0 = get_coef(i, Dom, Ran)\n",
    "    return a3 * x**3 + a2 * x**2 + a1 * x + a0\n",
    "\n",
    "def print_polys(Dom, Ran, name):\n",
    "    print('Polynom\\'s spline of {name}:')\n",
    "    for i in range(1, len(Dom)):\n",
    "        a3, a2, a1, a0 = get_coef(i)\n",
    "        print(f'P_{i}(x) = {a3}x^3 + {a2}x^2 + {a1}x + {a0}, if {Dom[i-1]}<=x<={Dom[i]}')\n",
    "\n",
    "# cплайн\n",
    "def spline(x, Dom, Ran):    \n",
    "    for i in range(1, len(Dom)):\n",
    "        if ((i == 1) and (Dom[0] <= x <= Dom[1])) or (Dom[i-1] < x <= Dom[i]):\n",
    "            return P(i, x, Dom, Ran)"
   ]
  },
  {
   "cell_type": "code",
   "execution_count": 11,
   "id": "074699fd",
   "metadata": {},
   "outputs": [],
   "source": [
    "def get_intersection(D1, E1, N, D2, E2, M):\n",
    "    if (D2[0] <= D1[N - 1]) or (D1[0] <= D2[N - 1]):\n",
    "        flag = False\n",
    "        for i in range(1, N):\n",
    "            for j in range(1, M):\n",
    "                left_border = max(D1[i - 1], D2[j - 1])\n",
    "                right_border = min(D1[i], D2[j])\n",
    "                if left_border <= right_border:\n",
    "                    a = get_coef(i, D1, E1)\n",
    "                    b = get_coef(j, D2, E2)\n",
    "                    roots = np.roots([c-d for c, d in zip(a, b)])\n",
    "                    for root in roots:\n",
    "                        if -0.08 < root.imag < 0.08 and (left_border<=root.real<=right_border):\n",
    "                            print(root.real, spline(root.real, D1, E1))\n",
    "                            flag = True\n",
    "                            break\n",
    "                    if flag:\n",
    "                        break\n",
    "            if flag:\n",
    "                break"
   ]
  },
  {
   "cell_type": "code",
   "execution_count": 12,
   "id": "1fbe2400",
   "metadata": {},
   "outputs": [
    {
     "name": "stdout",
     "output_type": "stream",
     "text": [
      "3.3920888227591646 0.2266064666800418\n"
     ]
    }
   ],
   "source": [
    "get_intersection(Dh, Eh, len(Dh), Dt, Et, len(Et))"
   ]
  },
  {
   "cell_type": "code",
   "execution_count": 7,
   "id": "e88ec32d",
   "metadata": {},
   "outputs": [
    {
     "data": {
      "text/plain": [
       "array([-3.,  4.,  1.])"
      ]
     },
     "execution_count": 7,
     "metadata": {},
     "output_type": "execute_result"
    }
   ],
   "source": [
    "np.roots([2, -4, -22, 24])"
   ]
  },
  {
   "cell_type": "code",
   "execution_count": 8,
   "id": "bd6ea612",
   "metadata": {},
   "outputs": [
    {
     "data": {
      "image/png": "[encoded data removed]",
      "text/plain": [
       "<Figure size 432x288 with 1 Axes>"
      ]
     },
     "metadata": {
      "needs_background": "light"
     },
     "output_type": "display_data"
    }
   ],
   "source": [
    "Of = np.linspace(Df[0], Df[6], 100)\n",
    "plt.plot(Of, [spline(x, Df, Ef) for x in Of])\n",
    "plt.plot(Of, [f(x) for x in Of])\n",
    "plt.show()"
   ]
  }
 ],
 "metadata": {
  "kernelspec": {
   "display_name": "Python 3 (ipykernel)",
   "language": "python",
   "name": "python3"
  },
  "language_info": {
   "codemirror_mode": {
    "name": "ipython",
    "version": 3
   },
   "file_extension": ".py",
   "mimetype": "text/x-python",
   "name": "python",
   "nbconvert_exporter": "python",
   "pygments_lexer": "ipython3",
   "version": "3.10.2"
  }
 },
 "nbformat": 4,
 "nbformat_minor": 5
}
