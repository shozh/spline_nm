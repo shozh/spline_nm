{
 "cells": [
  {
   "cell_type": "code",
   "execution_count": 1,
   "id": "457d9e4c",
   "metadata": {},
   "outputs": [],
   "source": [
    "import numpy as np\n",
    "import matplotlib.pyplot as plt\n",
    "from math import *"
   ]
  },
  {
   "cell_type": "code",
   "execution_count": 2,
   "id": "a08ccd57",
   "metadata": {},
   "outputs": [],
   "source": [
    "# Метод прогонки\n",
    "def tridiagonal_matrix_algorithm(a, b, c, d, n):\n",
    "    \n",
    "    for i in range(1, n):\n",
    "        coef = a[i]/b[i-1]\n",
    "        b[i] -= coef * c[i-1]\n",
    "        d[i] -= coef * d[i-1]\n",
    "    \n",
    "    for i in range(n - 1, 0, -1):\n",
    "        coef = c[i-1]/b[i]\n",
    "        d[i - 1] -= d[i] * coef\n",
    "    \n",
    "    return [d[i] / b[i] for i in range(n)]\n",
    "\n",
    "def get_gamma(Dom, Ran):\n",
    "    n = len(Dom)\n",
    "    \n",
    "    # шаг сетки\n",
    "    h = np.array([Dom[i] - Dom[i-1] for i in range(1, n)])\n",
    "    h = np.hstack((np.array([0]), h))\n",
    "\n",
    "    a = np.array([h[i]/6 for i in range(2, n - 1)])\n",
    "    a = np.hstack((np.array([0]), a))\n",
    "    \n",
    "    b = np.array([(h[i] + h[i+1])/3 for i in range(1, n - 1)])\n",
    "    \n",
    "    c = np.array([h[i+1]/6 for i in range(1, n- 2)])\n",
    "    c = np.hstack((c, np.array([0])))\n",
    "    \n",
    "    d = np.array([(Ran[i+1] - Ran[i])/h[i+1] - (Ran[i] - Ran[i-1])/h[i] for i in range(1, n-1)])\n",
    "    \n",
    "\n",
    "    gamma = tridiagonal_matrix_algorithm(a, b, c, d, n-2)\n",
    "    gamma.insert(0, 0)\n",
    "    gamma.append(0)\n",
    "    return gamma"
   ]
  },
  {
   "cell_type": "code",
   "execution_count": 3,
   "id": "ec05e1c1",
   "metadata": {},
   "outputs": [
    {
     "data": {
      "image/png": "[encoded data removed]",
      "text/plain": [
       "<Figure size 432x288 with 1 Axes>"
      ]
     },
     "metadata": {
      "needs_background": "light"
     },
     "output_type": "display_data"
    }
   ],
   "source": [
    "# Функция\n",
    "runge = lambda x: 1/(1 + x**2)\n",
    "\n",
    "# Участок\n",
    "Dom = np.arange(7)\n",
    "Ran = np.array([runge(t) for t in Dom])\n",
    "\n",
    "# полином\n",
    "def P(i, x):\n",
    "    gamma = get_gamma(Dom, Ran)\n",
    "    h = [0] + [Dom[i] - Dom[i-1] for i in range(1, len(Dom))]\n",
    "    p1 = Ran[i - 1]*(Dom[i] - x)/h[i]\n",
    "    p2 = gamma[i-1]*((Dom[i] - x)**3 - (Dom[i] - x)*h[i]**2)/(6 * h[i])\n",
    "    p3 = Ran[i]*(x - Dom[i - 1])/h[i]\n",
    "    p4 = gamma[i]*((x - Dom[i-1])**3 - (x - Dom[i-1])*h[i]**2)/(6*h[i])\n",
    "    return p1 + p2 + p3 + p4\n",
    "\n",
    "# cплайн\n",
    "def spline(x):    \n",
    "    for i in range(1, len(Dom)):\n",
    "        if ((i == 1) and (Dom[0] <= x <= Dom[1])) or (Dom[i-1] < x <= Dom[i]):\n",
    "            return P(i, x)\n",
    "        \n",
    "\n",
    "eps = 0.01\n",
    "Ox = np.linspace(Dom.min(), Dom.max(), 100)\n",
    "        \n",
    "plt.plot(Ox, [spline(x) for x in Ox], label='spline(x)')\n",
    "plt.plot(Dom, Ran, label='Dots')\n",
    "plt.plot(Ox, [runge(x) for x in Ox], label='runge(x)')\n",
    "plt.legend()\n",
    "plt.show()"
   ]
  },
  {
   "cell_type": "code",
   "execution_count": 4,
   "id": "bfde23f3",
   "metadata": {},
   "outputs": [
    {
     "name": "stdout",
     "output_type": "stream",
     "text": [
      "P_1(x) = 0.0402666955155643x^3 + 0.0x^2 + -0.5402666955155643x + 1.0\n",
      "P_2(x) = -0.0013334775778214801x^3 + 0.12480051928015734x^2 + -0.6650672147957216x + 1.041600173093386\n",
      "P_3(x) = -0.034932785204278415x^3 + 0.32639636503889896x^2 + -1.0682589063132049x + 1.3103946341050412\n",
      "P_4(x) = -0.00011185219330015622x^3 + 0.01300796794009463x^2 + -0.12809371501679193x + 0.37022944280862835\n",
      "P_5(x) = -0.0026288557962766135x^3 + 0.043212011175812116x^2 + -0.24890988795966187x + 0.5313176733991216\n",
      "P_6(x) = -0.0012597247438876386x^3 + 0.022675045389977496x^2 + -0.14622505903048877x + 0.36017629185049976\n"
     ]
    }
   ],
   "source": [
    "def get_coef(i):\n",
    "    gamma = get_gamma(Dom, Ran)\n",
    "    h = [0] + [Dom[i] - Dom[i-1] for i in range(1, len(Dom))]\n",
    "    a3 = (gamma[i] - gamma[i-1])/(6*h[i])\n",
    "    a2 = (gamma[i-1] * Dom[i] - gamma[i] * Dom[i - 1])/(2 * h[i])\n",
    "    a1 = (gamma[i] * Dom[i - 1] ** 2 - gamma[i - 1] * Dom[i] ** 2)/(2 * h[i]) + (Ran[i] - Ran[i - 1])/h[i] - h[i] * (gamma[i] - gamma[i-1]) / 6\n",
    "    a0 = (gamma[i-1] * Dom[i]**3 - gamma[i] * Dom[i-1] ** 3)/(6*h[i]) + (Ran[i-1] * Dom[i] - Ran[i] * Dom[i - 1])/h[i] + h[i]*(gamma[i] * Dom[i - 1] - gamma[i - 1] * Dom[i]) / 6\n",
    "    return [a3, a2, a1, a0]\n",
    "\n",
    "def Q(i, x):\n",
    "    a3, a2, a1, a0 = get_coef(i)\n",
    "    return a3 * x**3 + a2 * x**2 + a1 * x + a0\n",
    "\n",
    "\n",
    "for i in range(1, len(Dom)):\n",
    "        a3, a2, a1, a0 = get_coef(i)\n",
    "        print(f'P_{i}(x) = {a3}x^3 + {a2}x^2 + {a1}x + {a0}')"
   ]
  },
  {
   "cell_type": "code",
   "execution_count": 5,
   "id": "929f89dd",
   "metadata": {},
   "outputs": [
    {
     "ename": "IndentationError",
     "evalue": "expected an indented block after 'if' statement on line 19 (1157149513.py, line 23)",
     "output_type": "error",
     "traceback": [
      "\u001b[1;36m  Input \u001b[1;32mIn [5]\u001b[1;36m\u001b[0m\n\u001b[1;33m    else:\u001b[0m\n\u001b[1;37m         ^\u001b[0m\n\u001b[1;31mIndentationError\u001b[0m\u001b[1;31m:\u001b[0m expected an indented block after 'if' statement on line 19\n"
     ]
    }
   ],
   "source": [
    "# Функция\n",
    "runge = lambda x: 1/(1 + x**2)\n",
    "g = lambda x: 1/(1 + e**(-x))\n",
    "\n",
    "# Участок\n",
    "N = 7\n",
    "D1 = np.arange(7)\n",
    "E1 = np.array([runge(t) for t in D1])\n",
    "\n",
    "M = 7\n",
    "D2 = np.arange(-2, 5)\n",
    "E2 = np.array([g(x) for x in D1])\n",
    "\n",
    "if (D2[0] <= D1[N - 1]) or (D1[0] <= D2[N - 1]):\n",
    "    for i in range(1, N):\n",
    "        for j in range(1, M):\n",
    "            left_border = min(D1[i - 1], D2[i - 2])\n",
    "            right_border = max(D1[i], D2[i])\n",
    "            if left_border <= right_border:\n",
    "                 \n",
    "else:\n",
    "    print(\"There doesn't exist any intersection between these two splines within borders\")"
   ]
  },
  {
   "cell_type": "code",
   "execution_count": null,
   "id": "dcfb5dc0",
   "metadata": {},
   "outputs": [],
   "source": [
    "np.roots([1, 0, 0, -1])"
   ]
  },
  {
   "cell_type": "code",
   "execution_count": null,
   "id": "13599b99",
   "metadata": {},
   "outputs": [],
   "source": [
    "z = 5+3j\n",
    "w = 7 + 8j\n",
    "\n",
    "w.real"
   ]
  }
 ],
 "metadata": {
  "kernelspec": {
   "display_name": "Python 3 (ipykernel)",
   "language": "python",
   "name": "python3"
  },
  "language_info": {
   "codemirror_mode": {
    "name": "ipython",
    "version": 3
   },
   "file_extension": ".py",
   "mimetype": "text/x-python",
   "name": "python",
   "nbconvert_exporter": "python",
   "pygments_lexer": "ipython3",
   "version": "3.10.2"
  }
 },
 "nbformat": 4,
 "nbformat_minor": 5
}
